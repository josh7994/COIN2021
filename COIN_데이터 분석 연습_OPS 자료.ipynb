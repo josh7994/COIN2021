{
 "cells": [
  {
   "cell_type": "code",
   "execution_count": 1,
   "metadata": {},
   "outputs": [],
   "source": [
    "import pandas as pd\n",
    "import matplotlib.pyplot as plt\n",
    "import seaborn as sns\n",
    "import os\n",
    "import numpy as np"
   ]
  },
  {
   "cell_type": "code",
   "execution_count": 32,
   "metadata": {},
   "outputs": [],
   "source": [
    "# 사용자 운영체제 확인\n",
    "import platform\n",
    "platform.system()\n",
    "\n",
    "# 운영체제별 한글 폰트 설정\n",
    "if platform.system() == 'Darwin': # Mac 환경 폰트 설정\n",
    "    plt.rc('font', family='AppleGothic')\n",
    "elif platform.system() == 'Windows': # Windows 환경 폰트 설정\n",
    "    plt.rc('font', family='Malgun Gothic')\n",
    "\n",
    "plt.rc('axes', unicode_minus=False) # 마이너스 폰트 설정"
   ]
  },
  {
   "cell_type": "code",
   "execution_count": 2,
   "metadata": {},
   "outputs": [],
   "source": [
    "os.chdir(\"C:\\\\Users\\\\josh7\\\\OneDrive\\\\문서\\\\데이터 분석 연습\")"
   ]
  },
  {
   "cell_type": "code",
   "execution_count": 3,
   "metadata": {},
   "outputs": [],
   "source": [
    "regular=pd.read_csv(\"Regular_Season_Batter.csv\")"
   ]
  },
  {
   "cell_type": "markdown",
   "metadata": {},
   "source": [
    "#  1. 데이터 살펴보기"
   ]
  },
  {
   "cell_type": "code",
   "execution_count": 60,
   "metadata": {
    "scrolled": true
   },
   "outputs": [
    {
     "data": {
      "text/html": [
       "<div>\n",
       "<style scoped>\n",
       "    .dataframe tbody tr th:only-of-type {\n",
       "        vertical-align: middle;\n",
       "    }\n",
       "\n",
       "    .dataframe tbody tr th {\n",
       "        vertical-align: top;\n",
       "    }\n",
       "\n",
       "    .dataframe thead th {\n",
       "        text-align: right;\n",
       "    }\n",
       "</style>\n",
       "<table border=\"1\" class=\"dataframe\">\n",
       "  <thead>\n",
       "    <tr style=\"text-align: right;\">\n",
       "      <th></th>\n",
       "      <th>batter_id</th>\n",
       "      <th>batter_name</th>\n",
       "      <th>year</th>\n",
       "      <th>team</th>\n",
       "      <th>avg</th>\n",
       "      <th>G</th>\n",
       "      <th>AB</th>\n",
       "      <th>R</th>\n",
       "      <th>H</th>\n",
       "      <th>2B</th>\n",
       "      <th>3B</th>\n",
       "      <th>HR</th>\n",
       "      <th>TB</th>\n",
       "      <th>RBI</th>\n",
       "      <th>SB</th>\n",
       "      <th>CS</th>\n",
       "      <th>BB</th>\n",
       "      <th>HBP</th>\n",
       "      <th>SO</th>\n",
       "      <th>GDP</th>\n",
       "      <th>SLG</th>\n",
       "      <th>OBP</th>\n",
       "      <th>E</th>\n",
       "      <th>height/weight</th>\n",
       "      <th>year_born</th>\n",
       "      <th>position</th>\n",
       "      <th>career</th>\n",
       "      <th>starting_salary</th>\n",
       "      <th>OPS</th>\n",
       "    </tr>\n",
       "  </thead>\n",
       "  <tbody>\n",
       "    <tr>\n",
       "      <th>0</th>\n",
       "      <td>0</td>\n",
       "      <td>가르시아</td>\n",
       "      <td>2018</td>\n",
       "      <td>LG</td>\n",
       "      <td>0.339</td>\n",
       "      <td>50</td>\n",
       "      <td>183</td>\n",
       "      <td>27</td>\n",
       "      <td>62</td>\n",
       "      <td>9</td>\n",
       "      <td>0</td>\n",
       "      <td>8</td>\n",
       "      <td>95</td>\n",
       "      <td>34</td>\n",
       "      <td>5</td>\n",
       "      <td>0</td>\n",
       "      <td>9</td>\n",
       "      <td>8</td>\n",
       "      <td>25</td>\n",
       "      <td>3</td>\n",
       "      <td>0.519</td>\n",
       "      <td>0.383</td>\n",
       "      <td>9</td>\n",
       "      <td>177cm/93kg</td>\n",
       "      <td>1985년 04월 12일</td>\n",
       "      <td>내야수(우투우타)</td>\n",
       "      <td>쿠바 Ciego de Avila Maximo Gomez Baez(대)</td>\n",
       "      <td>NaN</td>\n",
       "      <td>0.902</td>\n",
       "    </tr>\n",
       "    <tr>\n",
       "      <th>1</th>\n",
       "      <td>1</td>\n",
       "      <td>강경학</td>\n",
       "      <td>2011</td>\n",
       "      <td>한화</td>\n",
       "      <td>0.000</td>\n",
       "      <td>2</td>\n",
       "      <td>1</td>\n",
       "      <td>0</td>\n",
       "      <td>0</td>\n",
       "      <td>0</td>\n",
       "      <td>0</td>\n",
       "      <td>0</td>\n",
       "      <td>0</td>\n",
       "      <td>0</td>\n",
       "      <td>0</td>\n",
       "      <td>0</td>\n",
       "      <td>0</td>\n",
       "      <td>0</td>\n",
       "      <td>1</td>\n",
       "      <td>0</td>\n",
       "      <td>0.000</td>\n",
       "      <td>0.000</td>\n",
       "      <td>1</td>\n",
       "      <td>180cm/72kg</td>\n",
       "      <td>1992년 08월 11일</td>\n",
       "      <td>내야수(우투좌타)</td>\n",
       "      <td>광주대성초-광주동성중-광주동성고</td>\n",
       "      <td>10000만원</td>\n",
       "      <td>0.000</td>\n",
       "    </tr>\n",
       "    <tr>\n",
       "      <th>2</th>\n",
       "      <td>1</td>\n",
       "      <td>강경학</td>\n",
       "      <td>2014</td>\n",
       "      <td>한화</td>\n",
       "      <td>0.221</td>\n",
       "      <td>41</td>\n",
       "      <td>86</td>\n",
       "      <td>11</td>\n",
       "      <td>19</td>\n",
       "      <td>2</td>\n",
       "      <td>3</td>\n",
       "      <td>1</td>\n",
       "      <td>30</td>\n",
       "      <td>7</td>\n",
       "      <td>0</td>\n",
       "      <td>0</td>\n",
       "      <td>13</td>\n",
       "      <td>2</td>\n",
       "      <td>28</td>\n",
       "      <td>1</td>\n",
       "      <td>0.349</td>\n",
       "      <td>0.337</td>\n",
       "      <td>6</td>\n",
       "      <td>180cm/72kg</td>\n",
       "      <td>1992년 08월 11일</td>\n",
       "      <td>내야수(우투좌타)</td>\n",
       "      <td>광주대성초-광주동성중-광주동성고</td>\n",
       "      <td>10000만원</td>\n",
       "      <td>0.686</td>\n",
       "    </tr>\n",
       "    <tr>\n",
       "      <th>3</th>\n",
       "      <td>1</td>\n",
       "      <td>강경학</td>\n",
       "      <td>2015</td>\n",
       "      <td>한화</td>\n",
       "      <td>0.257</td>\n",
       "      <td>120</td>\n",
       "      <td>311</td>\n",
       "      <td>50</td>\n",
       "      <td>80</td>\n",
       "      <td>7</td>\n",
       "      <td>4</td>\n",
       "      <td>2</td>\n",
       "      <td>101</td>\n",
       "      <td>27</td>\n",
       "      <td>4</td>\n",
       "      <td>3</td>\n",
       "      <td>40</td>\n",
       "      <td>5</td>\n",
       "      <td>58</td>\n",
       "      <td>3</td>\n",
       "      <td>0.325</td>\n",
       "      <td>0.348</td>\n",
       "      <td>15</td>\n",
       "      <td>180cm/72kg</td>\n",
       "      <td>1992년 08월 11일</td>\n",
       "      <td>내야수(우투좌타)</td>\n",
       "      <td>광주대성초-광주동성중-광주동성고</td>\n",
       "      <td>10000만원</td>\n",
       "      <td>0.673</td>\n",
       "    </tr>\n",
       "    <tr>\n",
       "      <th>4</th>\n",
       "      <td>1</td>\n",
       "      <td>강경학</td>\n",
       "      <td>2016</td>\n",
       "      <td>한화</td>\n",
       "      <td>0.158</td>\n",
       "      <td>46</td>\n",
       "      <td>101</td>\n",
       "      <td>16</td>\n",
       "      <td>16</td>\n",
       "      <td>3</td>\n",
       "      <td>2</td>\n",
       "      <td>1</td>\n",
       "      <td>26</td>\n",
       "      <td>7</td>\n",
       "      <td>0</td>\n",
       "      <td>0</td>\n",
       "      <td>8</td>\n",
       "      <td>2</td>\n",
       "      <td>30</td>\n",
       "      <td>5</td>\n",
       "      <td>0.257</td>\n",
       "      <td>0.232</td>\n",
       "      <td>7</td>\n",
       "      <td>180cm/72kg</td>\n",
       "      <td>1992년 08월 11일</td>\n",
       "      <td>내야수(우투좌타)</td>\n",
       "      <td>광주대성초-광주동성중-광주동성고</td>\n",
       "      <td>10000만원</td>\n",
       "      <td>0.489</td>\n",
       "    </tr>\n",
       "    <tr>\n",
       "      <th>5</th>\n",
       "      <td>1</td>\n",
       "      <td>강경학</td>\n",
       "      <td>2017</td>\n",
       "      <td>한화</td>\n",
       "      <td>0.214</td>\n",
       "      <td>59</td>\n",
       "      <td>84</td>\n",
       "      <td>17</td>\n",
       "      <td>18</td>\n",
       "      <td>2</td>\n",
       "      <td>1</td>\n",
       "      <td>0</td>\n",
       "      <td>22</td>\n",
       "      <td>4</td>\n",
       "      <td>1</td>\n",
       "      <td>1</td>\n",
       "      <td>8</td>\n",
       "      <td>1</td>\n",
       "      <td>19</td>\n",
       "      <td>1</td>\n",
       "      <td>0.262</td>\n",
       "      <td>0.290</td>\n",
       "      <td>4</td>\n",
       "      <td>180cm/72kg</td>\n",
       "      <td>1992년 08월 11일</td>\n",
       "      <td>내야수(우투좌타)</td>\n",
       "      <td>광주대성초-광주동성중-광주동성고</td>\n",
       "      <td>10000만원</td>\n",
       "      <td>0.552</td>\n",
       "    </tr>\n",
       "    <tr>\n",
       "      <th>6</th>\n",
       "      <td>1</td>\n",
       "      <td>강경학</td>\n",
       "      <td>2018</td>\n",
       "      <td>한화</td>\n",
       "      <td>0.278</td>\n",
       "      <td>77</td>\n",
       "      <td>245</td>\n",
       "      <td>42</td>\n",
       "      <td>68</td>\n",
       "      <td>11</td>\n",
       "      <td>1</td>\n",
       "      <td>5</td>\n",
       "      <td>96</td>\n",
       "      <td>27</td>\n",
       "      <td>6</td>\n",
       "      <td>3</td>\n",
       "      <td>38</td>\n",
       "      <td>4</td>\n",
       "      <td>59</td>\n",
       "      <td>7</td>\n",
       "      <td>0.392</td>\n",
       "      <td>0.382</td>\n",
       "      <td>2</td>\n",
       "      <td>180cm/72kg</td>\n",
       "      <td>1992년 08월 11일</td>\n",
       "      <td>내야수(우투좌타)</td>\n",
       "      <td>광주대성초-광주동성중-광주동성고</td>\n",
       "      <td>10000만원</td>\n",
       "      <td>0.774</td>\n",
       "    </tr>\n",
       "    <tr>\n",
       "      <th>7</th>\n",
       "      <td>2</td>\n",
       "      <td>강구성</td>\n",
       "      <td>2013</td>\n",
       "      <td>NC</td>\n",
       "      <td>0.000</td>\n",
       "      <td>2</td>\n",
       "      <td>2</td>\n",
       "      <td>0</td>\n",
       "      <td>0</td>\n",
       "      <td>0</td>\n",
       "      <td>0</td>\n",
       "      <td>0</td>\n",
       "      <td>0</td>\n",
       "      <td>0</td>\n",
       "      <td>0</td>\n",
       "      <td>0</td>\n",
       "      <td>0</td>\n",
       "      <td>0</td>\n",
       "      <td>0</td>\n",
       "      <td>0</td>\n",
       "      <td>0.000</td>\n",
       "      <td>0.000</td>\n",
       "      <td>0</td>\n",
       "      <td>180cm/82kg</td>\n",
       "      <td>1993년 06월 09일</td>\n",
       "      <td>외야수(우투좌타)</td>\n",
       "      <td>관산초-부천중-야탑고-NC-상무</td>\n",
       "      <td>9000만원</td>\n",
       "      <td>0.000</td>\n",
       "    </tr>\n",
       "    <tr>\n",
       "      <th>8</th>\n",
       "      <td>2</td>\n",
       "      <td>강구성</td>\n",
       "      <td>2015</td>\n",
       "      <td>NC</td>\n",
       "      <td>0.200</td>\n",
       "      <td>4</td>\n",
       "      <td>5</td>\n",
       "      <td>0</td>\n",
       "      <td>1</td>\n",
       "      <td>1</td>\n",
       "      <td>0</td>\n",
       "      <td>0</td>\n",
       "      <td>2</td>\n",
       "      <td>0</td>\n",
       "      <td>0</td>\n",
       "      <td>0</td>\n",
       "      <td>0</td>\n",
       "      <td>0</td>\n",
       "      <td>0</td>\n",
       "      <td>0</td>\n",
       "      <td>0.400</td>\n",
       "      <td>0.200</td>\n",
       "      <td>0</td>\n",
       "      <td>180cm/82kg</td>\n",
       "      <td>1993년 06월 09일</td>\n",
       "      <td>외야수(우투좌타)</td>\n",
       "      <td>관산초-부천중-야탑고-NC-상무</td>\n",
       "      <td>9000만원</td>\n",
       "      <td>0.600</td>\n",
       "    </tr>\n",
       "    <tr>\n",
       "      <th>9</th>\n",
       "      <td>2</td>\n",
       "      <td>강구성</td>\n",
       "      <td>2016</td>\n",
       "      <td>NC</td>\n",
       "      <td>0.000</td>\n",
       "      <td>2</td>\n",
       "      <td>3</td>\n",
       "      <td>0</td>\n",
       "      <td>0</td>\n",
       "      <td>0</td>\n",
       "      <td>0</td>\n",
       "      <td>0</td>\n",
       "      <td>0</td>\n",
       "      <td>0</td>\n",
       "      <td>0</td>\n",
       "      <td>0</td>\n",
       "      <td>0</td>\n",
       "      <td>0</td>\n",
       "      <td>1</td>\n",
       "      <td>0</td>\n",
       "      <td>0.000</td>\n",
       "      <td>0.000</td>\n",
       "      <td>0</td>\n",
       "      <td>180cm/82kg</td>\n",
       "      <td>1993년 06월 09일</td>\n",
       "      <td>외야수(우투좌타)</td>\n",
       "      <td>관산초-부천중-야탑고-NC-상무</td>\n",
       "      <td>9000만원</td>\n",
       "      <td>0.000</td>\n",
       "    </tr>\n",
       "  </tbody>\n",
       "</table>\n",
       "</div>"
      ],
      "text/plain": [
       "   batter_id batter_name  year team    avg    G   AB   R   H  2B  3B  HR   TB  \\\n",
       "0          0        가르시아  2018   LG  0.339   50  183  27  62   9   0   8   95   \n",
       "1          1         강경학  2011   한화  0.000    2    1   0   0   0   0   0    0   \n",
       "2          1         강경학  2014   한화  0.221   41   86  11  19   2   3   1   30   \n",
       "3          1         강경학  2015   한화  0.257  120  311  50  80   7   4   2  101   \n",
       "4          1         강경학  2016   한화  0.158   46  101  16  16   3   2   1   26   \n",
       "5          1         강경학  2017   한화  0.214   59   84  17  18   2   1   0   22   \n",
       "6          1         강경학  2018   한화  0.278   77  245  42  68  11   1   5   96   \n",
       "7          2         강구성  2013   NC  0.000    2    2   0   0   0   0   0    0   \n",
       "8          2         강구성  2015   NC  0.200    4    5   0   1   1   0   0    2   \n",
       "9          2         강구성  2016   NC  0.000    2    3   0   0   0   0   0    0   \n",
       "\n",
       "   RBI  SB  CS  BB  HBP  SO  GDP    SLG    OBP   E height/weight  \\\n",
       "0   34   5   0   9    8  25    3  0.519  0.383   9    177cm/93kg   \n",
       "1    0   0   0   0    0   1    0  0.000  0.000   1    180cm/72kg   \n",
       "2    7   0   0  13    2  28    1  0.349  0.337   6    180cm/72kg   \n",
       "3   27   4   3  40    5  58    3  0.325  0.348  15    180cm/72kg   \n",
       "4    7   0   0   8    2  30    5  0.257  0.232   7    180cm/72kg   \n",
       "5    4   1   1   8    1  19    1  0.262  0.290   4    180cm/72kg   \n",
       "6   27   6   3  38    4  59    7  0.392  0.382   2    180cm/72kg   \n",
       "7    0   0   0   0    0   0    0  0.000  0.000   0    180cm/82kg   \n",
       "8    0   0   0   0    0   0    0  0.400  0.200   0    180cm/82kg   \n",
       "9    0   0   0   0    0   1    0  0.000  0.000   0    180cm/82kg   \n",
       "\n",
       "       year_born   position                                  career  \\\n",
       "0  1985년 04월 12일  내야수(우투우타)  쿠바 Ciego de Avila Maximo Gomez Baez(대)   \n",
       "1  1992년 08월 11일  내야수(우투좌타)                       광주대성초-광주동성중-광주동성고   \n",
       "2  1992년 08월 11일  내야수(우투좌타)                       광주대성초-광주동성중-광주동성고   \n",
       "3  1992년 08월 11일  내야수(우투좌타)                       광주대성초-광주동성중-광주동성고   \n",
       "4  1992년 08월 11일  내야수(우투좌타)                       광주대성초-광주동성중-광주동성고   \n",
       "5  1992년 08월 11일  내야수(우투좌타)                       광주대성초-광주동성중-광주동성고   \n",
       "6  1992년 08월 11일  내야수(우투좌타)                       광주대성초-광주동성중-광주동성고   \n",
       "7  1993년 06월 09일  외야수(우투좌타)                       관산초-부천중-야탑고-NC-상무   \n",
       "8  1993년 06월 09일  외야수(우투좌타)                       관산초-부천중-야탑고-NC-상무   \n",
       "9  1993년 06월 09일  외야수(우투좌타)                       관산초-부천중-야탑고-NC-상무   \n",
       "\n",
       "  starting_salary    OPS  \n",
       "0             NaN  0.902  \n",
       "1         10000만원  0.000  \n",
       "2         10000만원  0.686  \n",
       "3         10000만원  0.673  \n",
       "4         10000만원  0.489  \n",
       "5         10000만원  0.552  \n",
       "6         10000만원  0.774  \n",
       "7          9000만원  0.000  \n",
       "8          9000만원  0.600  \n",
       "9          9000만원  0.000  "
      ]
     },
     "execution_count": 60,
     "metadata": {},
     "output_type": "execute_result"
    }
   ],
   "source": [
    "pd.set_option('display.max_columns', 100)\n",
    "regular.head(10)"
   ]
  },
  {
   "cell_type": "code",
   "execution_count": 6,
   "metadata": {
    "scrolled": false
   },
   "outputs": [
    {
     "data": {
      "text/plain": [
       "Index(['batter_id', 'batter_name', 'year', 'team', 'avg', 'G', 'AB', 'R', 'H',\n",
       "       '2B', '3B', 'HR', 'TB', 'RBI', 'SB', 'CS', 'BB', 'HBP', 'SO', 'GDP',\n",
       "       'SLG', 'OBP', 'E', 'height/weight', 'year_born', 'position', 'career',\n",
       "       'starting_salary', 'OPS'],\n",
       "      dtype='object')"
      ]
     },
     "execution_count": 6,
     "metadata": {},
     "output_type": "execute_result"
    }
   ],
   "source": [
    "#어떤 정보들이 담겨있나..\n",
    "regular.columns"
   ]
  },
  {
   "cell_type": "markdown",
   "metadata": {},
   "source": [
    "선수이름, 연도, 팀, 타율, 안타갯수(1루타, 2루타, 3루타, 홈런), 장타율, 출루율, OPS, 연봉, 체격 등 다양한 정보들이 담겨있는 것을 확인할 수 있다."
   ]
  },
  {
   "cell_type": "markdown",
   "metadata": {},
   "source": [
    "#  2. 시각화 해보기"
   ]
  },
  {
   "cell_type": "markdown",
   "metadata": {},
   "source": [
    "# 2.1 타율 살펴보기"
   ]
  },
  {
   "cell_type": "code",
   "execution_count": 116,
   "metadata": {},
   "outputs": [
    {
     "data": {
      "text/plain": [
       "team\n",
       "KIA     0.246399\n",
       "KT      0.223682\n",
       "LG      0.227000\n",
       "NC      0.227946\n",
       "OB      0.258667\n",
       "SK      0.252697\n",
       "넥센      0.240174\n",
       "두산      0.258250\n",
       "롯데      0.229524\n",
       "삼성      0.238015\n",
       "쌍방울     0.258000\n",
       "우리      0.198385\n",
       "한화      0.221178\n",
       "해태      0.304917\n",
       "현대      0.246283\n",
       "히어로즈    0.193769\n",
       "Name: avg, dtype: float64"
      ]
     },
     "execution_count": 116,
     "metadata": {},
     "output_type": "execute_result"
    }
   ],
   "source": [
    "#팀별 타율 평균\n",
    "team_avg=regular.groupby(['team'])['avg'].mean()\n",
    "team_avg.head(100)"
   ]
  },
  {
   "cell_type": "code",
   "execution_count": 112,
   "metadata": {},
   "outputs": [
    {
     "data": {
      "image/png": "[encoded data removed]",
      "text/plain": [
       "<Figure size 432x288 with 1 Axes>"
      ]
     },
     "metadata": {
      "needs_background": "light"
     },
     "output_type": "display_data"
    }
   ],
   "source": [
    "team_avg=regular.groupby(['team'])['avg'].mean().plot(kind='bar')"
   ]
  },
  {
   "cell_type": "markdown",
   "metadata": {},
   "source": [
    "대부분의 팀이 0.240을 기준으로 평균 타율이 형성되는 것을 알 수 있다."
   ]
  },
  {
   "cell_type": "code",
   "execution_count": 120,
   "metadata": {
    "scrolled": true
   },
   "outputs": [
    {
     "data": {
      "text/plain": [
       "year\n",
       "1993    0.280000\n",
       "1994    0.196500\n",
       "1995    0.326000\n",
       "1996    0.246857\n",
       "1997    0.257000\n",
       "1998    0.201100\n",
       "1999    0.267500\n",
       "2000    0.248632\n",
       "2001    0.257656\n",
       "2002    0.229275\n",
       "2003    0.224815\n",
       "2004    0.227147\n",
       "2005    0.225425\n",
       "2006    0.239783\n",
       "2007    0.223585\n",
       "2008    0.227482\n",
       "2009    0.241636\n",
       "2010    0.235938\n",
       "2011    0.227940\n",
       "2012    0.218443\n",
       "2013    0.232395\n",
       "2014    0.245741\n",
       "2015    0.236376\n",
       "2016    0.257745\n",
       "2017    0.244681\n",
       "2018    0.246774\n",
       "Name: avg, dtype: float64"
      ]
     },
     "execution_count": 120,
     "metadata": {},
     "output_type": "execute_result"
    }
   ],
   "source": [
    "#연도별 타율 평균\n",
    "\n",
    "year_avg=regular.groupby(['year'])['avg'].mean()\n",
    "year_avg.head(30)"
   ]
  },
  {
   "cell_type": "code",
   "execution_count": 118,
   "metadata": {
    "scrolled": true
   },
   "outputs": [
    {
     "data": {
      "text/plain": [
       "<AxesSubplot:xlabel='year', ylabel='avg'>"
      ]
     },
     "execution_count": 118,
     "metadata": {},
     "output_type": "execute_result"
    },
    {
     "data": {
      "image/png": "[encoded data removed]",
      "text/plain": [
       "<Figure size 432x288 with 1 Axes>"
      ]
     },
     "metadata": {
      "needs_background": "light"
     },
     "output_type": "display_data"
    }
   ],
   "source": [
    "sns.lineplot(data=year_avg)"
   ]
  },
  {
   "cell_type": "markdown",
   "metadata": {},
   "source": [
    "2000년이전에 데이터가 부족하여 2000년 이전 자료는 정확하지 않음... \n",
    "\n",
    "자료는 2002년부터 2010년대까지 0.230~0.240 사이에서 형성되다가 2014년부터 타율이 갑자기 상승하는 모습을 보여준다.\n"
   ]
  },
  {
   "cell_type": "code",
   "execution_count": 87,
   "metadata": {},
   "outputs": [
    {
     "data": {
      "text/plain": [
       "0.23755930807248726"
      ]
     },
     "execution_count": 87,
     "metadata": {},
     "output_type": "execute_result"
    }
   ],
   "source": [
    "#자료에 전체 평균 타율\n",
    "\n",
    "regular['avg'].mean()"
   ]
  },
  {
   "cell_type": "markdown",
   "metadata": {},
   "source": [
    "자료에 전체 평균 타율이 0.240정도... \n",
    "\n",
    "전체 평균보다 낮은 2005~2008년 시즌은 실제로도 투고타저 시즌에 해당한다...\n",
    "\n",
    "또한 2010년 이후 2011년부터 2013년까지 투고타저 시즌이 지속되었고 이후 공인구 반발력을 조정하면서 타저투고 시즌으로 돌입하게 된다."
   ]
  },
  {
   "cell_type": "code",
   "execution_count": 94,
   "metadata": {
    "scrolled": false
   },
   "outputs": [
    {
     "data": {
      "text/plain": [
       "<AxesSubplot:xlabel='year', ylabel='avg'>"
      ]
     },
     "execution_count": 94,
     "metadata": {},
     "output_type": "execute_result"
    },
    {
     "data": {
      "image/png": "[encoded data removed]",
      "text/plain": [
       "<Figure size 432x288 with 1 Axes>"
      ]
     },
     "metadata": {
      "needs_background": "light"
     },
     "output_type": "display_data"
    }
   ],
   "source": [
    "#연도별 타율에 대한 상자수염그림\n",
    "#https://kimdingko-world.tistory.com/165?category=1194493\n",
    "sns.boxplot(x=\"year\", y=\"avg\", data=regular)"
   ]
  },
  {
   "cell_type": "markdown",
   "metadata": {},
   "source": [
    "많은 값들이 outliers에 있음...\n",
    "\n",
    "이는 타석이 적은 선수들이 많기 때문에 그런것으로 판단됨..(1타수 1안타면 타율이 1.000이고 1타수 0안타이면 타율이 0.000 때문에..)"
   ]
  },
  {
   "cell_type": "markdown",
   "metadata": {},
   "source": [
    "# 2.2 홈런 살펴보기"
   ]
  },
  {
   "cell_type": "code",
   "execution_count": 69,
   "metadata": {
    "scrolled": false
   },
   "outputs": [
    {
     "data": {
      "text/plain": [
       "year\n",
       "1993    16\n",
       "1994    19\n",
       "1995    16\n",
       "1996    30\n",
       "1997    30\n",
       "1998    30\n",
       "1999    24\n",
       "2000    32\n",
       "2001    23\n",
       "2002    38\n",
       "2003    31\n",
       "2004    24\n",
       "2005    26\n",
       "2006    26\n",
       "2007    29\n",
       "2008    31\n",
       "2009    28\n",
       "2010    44\n",
       "2011    30\n",
       "2012    31\n",
       "2013    37\n",
       "2014    52\n",
       "2015    53\n",
       "2016    40\n",
       "2017    46\n",
       "2018    44\n",
       "Name: HR, dtype: int64"
      ]
     },
     "execution_count": 69,
     "metadata": {},
     "output_type": "execute_result"
    }
   ],
   "source": [
    "#연도별 최다 홈런\n",
    "year_hr=regular.groupby(['year'])['HR'].max()\n",
    "year_hr.head(100)"
   ]
  },
  {
   "cell_type": "code",
   "execution_count": 68,
   "metadata": {
    "scrolled": true
   },
   "outputs": [
    {
     "data": {
      "text/plain": [
       "<AxesSubplot:xlabel='year', ylabel='HR'>"
      ]
     },
     "execution_count": 68,
     "metadata": {},
     "output_type": "execute_result"
    },
    {
     "data": {
      "image/png": "[encoded data removed]",
      "text/plain": [
       "<Figure size 432x288 with 1 Axes>"
      ]
     },
     "metadata": {
      "needs_background": "light"
     },
     "output_type": "display_data"
    }
   ],
   "source": [
    "sns.lineplot(data=year_hr)"
   ]
  },
  {
   "cell_type": "markdown",
   "metadata": {},
   "source": [
    "연도별 최다 홈런 기록은 점차 증가하다가 최근에 감소하는 추세를 보이고 있다."
   ]
  },
  {
   "cell_type": "markdown",
   "metadata": {},
   "source": [
    "# 2.3 타석과 OPS의 관계"
   ]
  },
  {
   "cell_type": "code",
   "execution_count": 144,
   "metadata": {},
   "outputs": [
    {
     "data": {
      "text/plain": [
       "Text(0, 0.5, 'OPS')"
      ]
     },
     "execution_count": 144,
     "metadata": {},
     "output_type": "execute_result"
    },
    {
     "data": {
      "image/png": "[encoded data removed]",
      "text/plain": [
       "<Figure size 432x288 with 1 Axes>"
      ]
     },
     "metadata": {
      "needs_background": "light"
     },
     "output_type": "display_data"
    }
   ],
   "source": [
    "#타석과 ops에 관계\n",
    "plt.scatter(regular['AB'],regular['OPS'])\n",
    "plt.xlabel('AB')\n",
    "plt.ylabel('OPS')"
   ]
  },
  {
   "cell_type": "markdown",
   "metadata": {},
   "source": [
    "OPS는 출루율과 장타율의 합을 의미.\n",
    "\n",
    "출루율이란 타자가 얼마만큼 루상에 얼마나 많이 나갔는가(출루했는가)를 백분율로 보여주는 지표.\n",
    "\n",
    "장타율은 타자의 장타력을 측정하는 지표로 HIT(안타)에 가중치를 두어 합한 수를 타수로 나눈 지표.\n"
   ]
  },
  {
   "cell_type": "markdown",
   "metadata": {},
   "source": [
    "자료를 보면 타석이 증가할수록 OPS는 높아지는 것을 볼 수 있다..\n"
   ]
  },
  {
   "cell_type": "markdown",
   "metadata": {},
   "source": [
    "# 번외) 강민호 선수의 성적 보기.."
   ]
  },
  {
   "cell_type": "markdown",
   "metadata": {},
   "source": [
    "최근 3번째 FA를 앞두고 있는 강민호 선수의 방망이가 뜨겁다... 5월 22일 현재 강민호 선수의 타율은 0.342로 리그 7위에 성적을 기록하고 있다.. 과거에도 그가 이렇게까지 높은 고타율을 기록한적이 있을까..? 또 FA를 앞둔 시즌의 성적은 어땠을까?"
   ]
  },
  {
   "cell_type": "code",
   "execution_count": 140,
   "metadata": {
    "scrolled": true
   },
   "outputs": [
    {
     "data": {
      "text/html": [
       "<div>\n",
       "<style scoped>\n",
       "    .dataframe tbody tr th:only-of-type {\n",
       "        vertical-align: middle;\n",
       "    }\n",
       "\n",
       "    .dataframe tbody tr th {\n",
       "        vertical-align: top;\n",
       "    }\n",
       "\n",
       "    .dataframe thead th {\n",
       "        text-align: right;\n",
       "    }\n",
       "</style>\n",
       "<table border=\"1\" class=\"dataframe\">\n",
       "  <thead>\n",
       "    <tr style=\"text-align: right;\">\n",
       "      <th></th>\n",
       "      <th>year</th>\n",
       "      <th>avg</th>\n",
       "    </tr>\n",
       "  </thead>\n",
       "  <tbody>\n",
       "    <tr>\n",
       "      <th>42</th>\n",
       "      <td>2004</td>\n",
       "      <td>0.000</td>\n",
       "    </tr>\n",
       "    <tr>\n",
       "      <th>43</th>\n",
       "      <td>2005</td>\n",
       "      <td>0.243</td>\n",
       "    </tr>\n",
       "    <tr>\n",
       "      <th>44</th>\n",
       "      <td>2006</td>\n",
       "      <td>0.251</td>\n",
       "    </tr>\n",
       "    <tr>\n",
       "      <th>45</th>\n",
       "      <td>2007</td>\n",
       "      <td>0.271</td>\n",
       "    </tr>\n",
       "    <tr>\n",
       "      <th>46</th>\n",
       "      <td>2008</td>\n",
       "      <td>0.292</td>\n",
       "    </tr>\n",
       "    <tr>\n",
       "      <th>47</th>\n",
       "      <td>2009</td>\n",
       "      <td>0.260</td>\n",
       "    </tr>\n",
       "    <tr>\n",
       "      <th>48</th>\n",
       "      <td>2010</td>\n",
       "      <td>0.305</td>\n",
       "    </tr>\n",
       "    <tr>\n",
       "      <th>49</th>\n",
       "      <td>2011</td>\n",
       "      <td>0.289</td>\n",
       "    </tr>\n",
       "    <tr>\n",
       "      <th>50</th>\n",
       "      <td>2012</td>\n",
       "      <td>0.273</td>\n",
       "    </tr>\n",
       "    <tr>\n",
       "      <th>51</th>\n",
       "      <td>2013</td>\n",
       "      <td>0.235</td>\n",
       "    </tr>\n",
       "    <tr>\n",
       "      <th>52</th>\n",
       "      <td>2014</td>\n",
       "      <td>0.229</td>\n",
       "    </tr>\n",
       "    <tr>\n",
       "      <th>53</th>\n",
       "      <td>2015</td>\n",
       "      <td>0.311</td>\n",
       "    </tr>\n",
       "    <tr>\n",
       "      <th>54</th>\n",
       "      <td>2016</td>\n",
       "      <td>0.323</td>\n",
       "    </tr>\n",
       "    <tr>\n",
       "      <th>55</th>\n",
       "      <td>2017</td>\n",
       "      <td>0.285</td>\n",
       "    </tr>\n",
       "    <tr>\n",
       "      <th>56</th>\n",
       "      <td>2018</td>\n",
       "      <td>0.269</td>\n",
       "    </tr>\n",
       "  </tbody>\n",
       "</table>\n",
       "</div>"
      ],
      "text/plain": [
       "    year    avg\n",
       "42  2004  0.000\n",
       "43  2005  0.243\n",
       "44  2006  0.251\n",
       "45  2007  0.271\n",
       "46  2008  0.292\n",
       "47  2009  0.260\n",
       "48  2010  0.305\n",
       "49  2011  0.289\n",
       "50  2012  0.273\n",
       "51  2013  0.235\n",
       "52  2014  0.229\n",
       "53  2015  0.311\n",
       "54  2016  0.323\n",
       "55  2017  0.285\n",
       "56  2018  0.269"
      ]
     },
     "execution_count": 140,
     "metadata": {},
     "output_type": "execute_result"
    }
   ],
   "source": [
    "#강민호 선수의 타율\n",
    "kang=regular.loc[regular['batter_name']=='강민호'][['year','avg']]\n",
    "kang.head(100)"
   ]
  },
  {
   "cell_type": "code",
   "execution_count": 143,
   "metadata": {
    "scrolled": true
   },
   "outputs": [
    {
     "data": {
      "text/plain": [
       "<BarContainer object of 15 artists>"
      ]
     },
     "execution_count": 143,
     "metadata": {},
     "output_type": "execute_result"
    },
    {
     "data": {
      "image/png": "[encoded data removed]",
      "text/plain": [
       "<Figure size 432x288 with 1 Axes>"
      ]
     },
     "metadata": {
      "needs_background": "light"
     },
     "output_type": "display_data"
    }
   ],
   "source": [
    "plt.bar(kang['year'], kang['avg'])"
   ]
  },
  {
   "cell_type": "markdown",
   "metadata": {},
   "source": [
    "그가 기록한 최고 타율은 2016년 0.323이다.. 현재에 0.342을 유지한다면 그의 커리어하이 시즌이 될 것이다... \n",
    "\n",
    "그의 첫 FA는 2013년이었다... \n",
    "\n",
    "그의 타율은 고작 0.235였지만.. 그는 4년 75억에 롯데와 계약한다.. 롯데는 왜 강민호에게 많은 돈을 주었을까???? 아마도 강민호의 포지션이 포수라는 점.. 2013년 이전까지 0.270 이상의 타율을 기록했다는 점을 인정했던것일까?\n",
    "\n",
    "\n",
    "그의 두번째 FA는 2017년이었고 그는 0.285라는 준수한 타율과 직전년도 0.323이라는 고타율을 기록하면서 4년 80억에 삼성으로 이적한다...\n",
    "\n",
    "삼성 이적후 2018년 0.269, 2019년 0.234, 2020년 0.287을 차례로 기록했고 올해 그의 타율은 0.342... 이 기록을 유지한다면 또 한번의 FA대박을 꿈꿀 수 있을 것이다..\n",
    "\n",
    "현재 그의 나이는 37세로 곧 은퇴를 앞두고 있지만.. 마지막이 될수도 있는 FA에서 과연 얼마를 받게될까??"
   ]
  }
 ],
 "metadata": {
  "kernelspec": {
   "display_name": "Python 3",
   "language": "python",
   "name": "python3"
  },
  "language_info": {
   "codemirror_mode": {
    "name": "ipython",
    "version": 3
   },
   "file_extension": ".py",
   "mimetype": "text/x-python",
   "name": "python",
   "nbconvert_exporter": "python",
   "pygments_lexer": "ipython3",
   "version": "3.8.5"
  }
 },
 "nbformat": 4,
 "nbformat_minor": 4
}
